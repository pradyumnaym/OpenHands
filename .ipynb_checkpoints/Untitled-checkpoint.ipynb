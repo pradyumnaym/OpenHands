{
 "cells": [
  {
   "cell_type": "code",
   "execution_count": 1,
   "id": "1e423b1c",
   "metadata": {},
   "outputs": [],
   "source": [
    "import torch\n",
    "from openhands.datasets.continuous import DGSDataset"
   ]
  },
  {
   "cell_type": "code",
   "execution_count": 2,
   "id": "6bdbfbd9",
   "metadata": {},
   "outputs": [
    {
     "name": "stdout",
     "output_type": "stream",
     "text": [
      "Found 8766 tokens in the gloss vocabulary.\n",
      "Found 24751 tokens in the text vocabulary.\n"
     ]
    }
   ],
   "source": [
    "dataset = DGSDataset(\n",
    "        train_file= \"/data/cslr_datasets/DGS_CORPUS/final_dataset.csv\",\n",
    "        split_file= \"/data/cslr_datasets/DGS_CORPUS/final_dataset.csv\",\n",
    "        root_dir= \"/data/cslr_datasets/DGS_CORPUS/\",\n",
    "        modality= \"rgb\",\n",
    "        splits= \"train\",\n",
    "        use_english= False\n",
    ")"
   ]
  },
  {
   "cell_type": "code",
   "execution_count": 3,
   "id": "d801b83b",
   "metadata": {},
   "outputs": [],
   "source": [
    "dl = torch.utils.data.DataLoader(\n",
    "    dataset=dataset,\n",
    "    collate_fn=dataset.collate_fn,\n",
    "    batch_size= 32,\n",
    "    shuffle= False,\n",
    "    num_workers= 1,\n",
    "    pin_memory= True,\n",
    "    drop_last= False,\n",
    ")"
   ]
  },
  {
   "cell_type": "code",
   "execution_count": 4,
   "id": "11fddf4c",
   "metadata": {
    "scrolled": false
   },
   "outputs": [
    {
     "name": "stdout",
     "output_type": "stream",
     "text": [
      "torch.Size([360, 16, 264, 264])\n",
      "torch.Size([360, 16, 264, 264])\n",
      "torch.Size([360, 16, 264, 264])\n",
      "torch.Size([360, 16, 264, 264])\n",
      "torch.Size([360, 16, 264, 264])\n",
      "torch.Size([360, 16, 264, 264])\n",
      "torch.Size([360, 16, 264, 264])\n",
      "torch.Size([360, 16, 264, 264])\n",
      "torch.Size([360, 16, 264, 264])\n",
      "torch.Size([360, 16, 264, 264])\n",
      "torch.Size([360, 16, 264, 264])\n",
      "torch.Size([360, 16, 264, 264])\n",
      "torch.Size([360, 16, 264, 264])\n",
      "torch.Size([360, 16, 264, 264])\n",
      "torch.Size([360, 16, 264, 264])\n",
      "torch.Size([360, 16, 264, 264])\n",
      "torch.Size([360, 16, 264, 264])\n",
      "torch.Size([360, 16, 264, 264])\n",
      "torch.Size([360, 16, 264, 264])\n",
      "torch.Size([360, 16, 264, 264])\n",
      "torch.Size([360, 16, 264, 264])\n",
      "torch.Size([360, 16, 264, 264])\n",
      "torch.Size([360, 16, 264, 264])\n",
      "torch.Size([360, 16, 264, 264])\n",
      "torch.Size([360, 16, 264, 264])\n",
      "torch.Size([360, 16, 264, 264])\n",
      "torch.Size([360, 16, 264, 264])\n",
      "torch.Size([360, 16, 264, 264])\n",
      "torch.Size([360, 16, 264, 264])\n",
      "torch.Size([360, 16, 264, 264])\n",
      "torch.Size([360, 16, 264, 264])\n",
      "torch.Size([360, 16, 264, 264])\n"
     ]
    },
    {
     "ename": "TypeError",
     "evalue": "Caught TypeError in DataLoader worker process 0.\nOriginal Traceback (most recent call last):\n  File \"/data/envs/openhands/lib/python3.8/site-packages/torch/utils/data/_utils/worker.py\", line 302, in _worker_loop\n    data = fetcher.fetch(index)\n  File \"/data/envs/openhands/lib/python3.8/site-packages/torch/utils/data/_utils/fetch.py\", line 61, in fetch\n    return self.collate_fn(data)\n  File \"/data/models/OpenHands/openhands/datasets/continuous/base.py\", line 304, in collate_fn\n    return dict(\n  File \"/data/envs/openhands/lib/python3.8/site-packages/torchtext/functional.py\", line 38, in to_tensor\n    raise TypeError(\"Input type not supported\")\nTypeError: Input type not supported\n",
     "output_type": "error",
     "traceback": [
      "\u001b[0;31m---------------------------------------------------------------------------\u001b[0m",
      "\u001b[0;31mTypeError\u001b[0m                                 Traceback (most recent call last)",
      "Cell \u001b[0;32mIn [4], line 1\u001b[0m\n\u001b[0;32m----> 1\u001b[0m \u001b[38;5;28;01mfor\u001b[39;00m d \u001b[38;5;129;01min\u001b[39;00m dl:\n\u001b[1;32m      2\u001b[0m     \u001b[38;5;28;01mbreak\u001b[39;00m\n",
      "File \u001b[0;32m/data/envs/openhands/lib/python3.8/site-packages/torch/utils/data/dataloader.py:628\u001b[0m, in \u001b[0;36m_BaseDataLoaderIter.__next__\u001b[0;34m(self)\u001b[0m\n\u001b[1;32m    625\u001b[0m \u001b[38;5;28;01mif\u001b[39;00m \u001b[38;5;28mself\u001b[39m\u001b[38;5;241m.\u001b[39m_sampler_iter \u001b[38;5;129;01mis\u001b[39;00m \u001b[38;5;28;01mNone\u001b[39;00m:\n\u001b[1;32m    626\u001b[0m     \u001b[38;5;66;03m# TODO(https://github.com/pytorch/pytorch/issues/76750)\u001b[39;00m\n\u001b[1;32m    627\u001b[0m     \u001b[38;5;28mself\u001b[39m\u001b[38;5;241m.\u001b[39m_reset()  \u001b[38;5;66;03m# type: ignore[call-arg]\u001b[39;00m\n\u001b[0;32m--> 628\u001b[0m data \u001b[38;5;241m=\u001b[39m \u001b[38;5;28;43mself\u001b[39;49m\u001b[38;5;241;43m.\u001b[39;49m\u001b[43m_next_data\u001b[49m\u001b[43m(\u001b[49m\u001b[43m)\u001b[49m\n\u001b[1;32m    629\u001b[0m \u001b[38;5;28mself\u001b[39m\u001b[38;5;241m.\u001b[39m_num_yielded \u001b[38;5;241m+\u001b[39m\u001b[38;5;241m=\u001b[39m \u001b[38;5;241m1\u001b[39m\n\u001b[1;32m    630\u001b[0m \u001b[38;5;28;01mif\u001b[39;00m \u001b[38;5;28mself\u001b[39m\u001b[38;5;241m.\u001b[39m_dataset_kind \u001b[38;5;241m==\u001b[39m _DatasetKind\u001b[38;5;241m.\u001b[39mIterable \u001b[38;5;129;01mand\u001b[39;00m \\\n\u001b[1;32m    631\u001b[0m         \u001b[38;5;28mself\u001b[39m\u001b[38;5;241m.\u001b[39m_IterableDataset_len_called \u001b[38;5;129;01mis\u001b[39;00m \u001b[38;5;129;01mnot\u001b[39;00m \u001b[38;5;28;01mNone\u001b[39;00m \u001b[38;5;129;01mand\u001b[39;00m \\\n\u001b[1;32m    632\u001b[0m         \u001b[38;5;28mself\u001b[39m\u001b[38;5;241m.\u001b[39m_num_yielded \u001b[38;5;241m>\u001b[39m \u001b[38;5;28mself\u001b[39m\u001b[38;5;241m.\u001b[39m_IterableDataset_len_called:\n",
      "File \u001b[0;32m/data/envs/openhands/lib/python3.8/site-packages/torch/utils/data/dataloader.py:1333\u001b[0m, in \u001b[0;36m_MultiProcessingDataLoaderIter._next_data\u001b[0;34m(self)\u001b[0m\n\u001b[1;32m   1331\u001b[0m \u001b[38;5;28;01melse\u001b[39;00m:\n\u001b[1;32m   1332\u001b[0m     \u001b[38;5;28;01mdel\u001b[39;00m \u001b[38;5;28mself\u001b[39m\u001b[38;5;241m.\u001b[39m_task_info[idx]\n\u001b[0;32m-> 1333\u001b[0m     \u001b[38;5;28;01mreturn\u001b[39;00m \u001b[38;5;28;43mself\u001b[39;49m\u001b[38;5;241;43m.\u001b[39;49m\u001b[43m_process_data\u001b[49m\u001b[43m(\u001b[49m\u001b[43mdata\u001b[49m\u001b[43m)\u001b[49m\n",
      "File \u001b[0;32m/data/envs/openhands/lib/python3.8/site-packages/torch/utils/data/dataloader.py:1359\u001b[0m, in \u001b[0;36m_MultiProcessingDataLoaderIter._process_data\u001b[0;34m(self, data)\u001b[0m\n\u001b[1;32m   1357\u001b[0m \u001b[38;5;28mself\u001b[39m\u001b[38;5;241m.\u001b[39m_try_put_index()\n\u001b[1;32m   1358\u001b[0m \u001b[38;5;28;01mif\u001b[39;00m \u001b[38;5;28misinstance\u001b[39m(data, ExceptionWrapper):\n\u001b[0;32m-> 1359\u001b[0m     \u001b[43mdata\u001b[49m\u001b[38;5;241;43m.\u001b[39;49m\u001b[43mreraise\u001b[49m\u001b[43m(\u001b[49m\u001b[43m)\u001b[49m\n\u001b[1;32m   1360\u001b[0m \u001b[38;5;28;01mreturn\u001b[39;00m data\n",
      "File \u001b[0;32m/data/envs/openhands/lib/python3.8/site-packages/torch/_utils.py:543\u001b[0m, in \u001b[0;36mExceptionWrapper.reraise\u001b[0;34m(self)\u001b[0m\n\u001b[1;32m    539\u001b[0m \u001b[38;5;28;01mexcept\u001b[39;00m \u001b[38;5;167;01mTypeError\u001b[39;00m:\n\u001b[1;32m    540\u001b[0m     \u001b[38;5;66;03m# If the exception takes multiple arguments, don't try to\u001b[39;00m\n\u001b[1;32m    541\u001b[0m     \u001b[38;5;66;03m# instantiate since we don't know how to\u001b[39;00m\n\u001b[1;32m    542\u001b[0m     \u001b[38;5;28;01mraise\u001b[39;00m \u001b[38;5;167;01mRuntimeError\u001b[39;00m(msg) \u001b[38;5;28;01mfrom\u001b[39;00m \u001b[38;5;28mNone\u001b[39m\n\u001b[0;32m--> 543\u001b[0m \u001b[38;5;28;01mraise\u001b[39;00m exception\n",
      "\u001b[0;31mTypeError\u001b[0m: Caught TypeError in DataLoader worker process 0.\nOriginal Traceback (most recent call last):\n  File \"/data/envs/openhands/lib/python3.8/site-packages/torch/utils/data/_utils/worker.py\", line 302, in _worker_loop\n    data = fetcher.fetch(index)\n  File \"/data/envs/openhands/lib/python3.8/site-packages/torch/utils/data/_utils/fetch.py\", line 61, in fetch\n    return self.collate_fn(data)\n  File \"/data/models/OpenHands/openhands/datasets/continuous/base.py\", line 304, in collate_fn\n    return dict(\n  File \"/data/envs/openhands/lib/python3.8/site-packages/torchtext/functional.py\", line 38, in to_tensor\n    raise TypeError(\"Input type not supported\")\nTypeError: Input type not supported\n"
     ]
    },
    {
     "name": "stdout",
     "output_type": "stream",
     "text": [
      "torch.Size([360, 16, 264, 264])\n",
      "torch.Size([360, 16, 264, 264])\n",
      "torch.Size([360, 16, 264, 264])\n",
      "torch.Size([360, 16, 264, 264])\n",
      "torch.Size([360, 16, 264, 264])\n",
      "torch.Size([360, 16, 264, 264])\n",
      "torch.Size([360, 16, 264, 264])\n",
      "torch.Size([360, 16, 264, 264])\n",
      "torch.Size([360, 16, 264, 264])\n",
      "torch.Size([360, 16, 264, 264])\n",
      "torch.Size([360, 16, 264, 264])\n",
      "torch.Size([360, 16, 264, 264])\n",
      "torch.Size([360, 16, 264, 264])\n",
      "torch.Size([360, 16, 264, 264])\n",
      "torch.Size([360, 16, 264, 264])\n",
      "torch.Size([360, 16, 264, 264])\n",
      "torch.Size([360, 16, 264, 264])\n",
      "torch.Size([360, 16, 264, 264])\n",
      "torch.Size([360, 16, 264, 264])\n",
      "torch.Size([360, 16, 264, 264])\n",
      "torch.Size([360, 16, 264, 264])\n",
      "torch.Size([360, 16, 264, 264])\n",
      "torch.Size([360, 16, 264, 264])\n",
      "torch.Size([360, 16, 264, 264])\n",
      "torch.Size([360, 16, 264, 264])\n",
      "torch.Size([360, 16, 264, 264])\n",
      "torch.Size([360, 16, 264, 264])\n",
      "torch.Size([360, 16, 264, 264])\n",
      "torch.Size([360, 16, 264, 264])\n",
      "torch.Size([360, 16, 264, 264])\n",
      "torch.Size([360, 16, 264, 264])\n",
      "torch.Size([360, 16, 264, 264])\n",
      "torch.Size([360, 16, 264, 264])\n",
      "torch.Size([360, 16, 264, 264])\n",
      "torch.Size([360, 16, 264, 264])\n",
      "torch.Size([360, 16, 264, 264])\n",
      "torch.Size([360, 16, 264, 264])\n",
      "torch.Size([360, 16, 264, 264])\n",
      "torch.Size([360, 16, 264, 264])\n",
      "torch.Size([360, 16, 264, 264])\n",
      "torch.Size([360, 16, 264, 264])\n",
      "torch.Size([360, 16, 264, 264])\n",
      "torch.Size([360, 16, 264, 264])\n",
      "torch.Size([360, 16, 264, 264])\n",
      "torch.Size([360, 16, 264, 264])\n",
      "torch.Size([360, 16, 264, 264])\n",
      "torch.Size([360, 16, 264, 264])\n",
      "torch.Size([360, 16, 264, 264])\n",
      "torch.Size([360, 16, 264, 264])\n",
      "torch.Size([360, 16, 264, 264])\n",
      "torch.Size([360, 16, 264, 264])\n",
      "torch.Size([360, 16, 264, 264])\n",
      "torch.Size([360, 16, 264, 264])\n",
      "torch.Size([360, 16, 264, 264])\n",
      "torch.Size([360, 16, 264, 264])\n",
      "torch.Size([360, 16, 264, 264])\n",
      "torch.Size([360, 16, 264, 264])\n",
      "torch.Size([360, 16, 264, 264])\n",
      "torch.Size([360, 16, 264, 264])\n",
      "torch.Size([360, 16, 264, 264])\n",
      "torch.Size([360, 16, 264, 264])\n",
      "torch.Size([360, 16, 264, 264])\n",
      "torch.Size([360, 16, 264, 264])\n",
      "torch.Size([360, 16, 264, 264])\n"
     ]
    }
   ],
   "source": [
    "for d in dl:\n",
    "    break"
   ]
  },
  {
   "cell_type": "code",
   "execution_count": null,
   "id": "1adbd17e",
   "metadata": {},
   "outputs": [],
   "source": []
  }
 ],
 "metadata": {
  "kernelspec": {
   "display_name": "Python 3 (ipykernel)",
   "language": "python",
   "name": "python3"
  },
  "language_info": {
   "codemirror_mode": {
    "name": "ipython",
    "version": 3
   },
   "file_extension": ".py",
   "mimetype": "text/x-python",
   "name": "python",
   "nbconvert_exporter": "python",
   "pygments_lexer": "ipython3",
   "version": "3.8.10"
  }
 },
 "nbformat": 4,
 "nbformat_minor": 5
}
