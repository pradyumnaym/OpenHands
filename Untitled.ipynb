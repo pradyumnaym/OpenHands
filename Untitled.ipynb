{
 "cells": [
  {
   "cell_type": "code",
   "execution_count": 1,
   "id": "1e423b1c",
   "metadata": {},
   "outputs": [],
   "source": [
    "import json"
   ]
  },
  {
   "cell_type": "code",
   "execution_count": 2,
   "id": "6bdbfbd9",
   "metadata": {},
   "outputs": [],
   "source": [
    "with open(\"/data/models/WLASL/code/I3D/preprocess/random_100.json\") as f:\n",
    "        d = json.load(f)"
   ]
  },
  {
   "cell_type": "code",
   "execution_count": 3,
   "id": "d801b83b",
   "metadata": {},
   "outputs": [],
   "source": [
    "for key in d:\n",
    "    d[key] = d[key]['subset']"
   ]
  },
  {
   "cell_type": "code",
   "execution_count": 4,
   "id": "1adbd17e",
   "metadata": {},
   "outputs": [],
   "source": [
    "with open(\"/data/models/OpenHands/openhands/datasets/assets/wlasl_metadata/splits/asl100.json\") as f:\n",
    "        d1 = json.load(f)"
   ]
  },
  {
   "cell_type": "code",
   "execution_count": 5,
   "id": "32a8347b",
   "metadata": {},
   "outputs": [],
   "source": [
    "for gloss in d1:\n",
    "    for instance in gloss['instances']:\n",
    "        instance['split'] = d[instance['video_id']]"
   ]
  },
  {
   "cell_type": "code",
   "execution_count": 6,
   "id": "cacc7fc7",
   "metadata": {},
   "outputs": [],
   "source": [
    "with open(\"/data/models/OpenHands/openhands/datasets/assets/wlasl_metadata/splits/asl100_random.json\", 'w') as f:\n",
    "    #json.dump(d1, f)"
   ]
  },
  {
   "cell_type": "code",
   "execution_count": 16,
   "id": "70399d1a",
   "metadata": {},
   "outputs": [],
   "source": [
    "with open(\"/data/models/WLASL/code/I3D/preprocess/random_100.json\") as f:\n",
    "        d = json.load(f)"
   ]
  },
  {
   "cell_type": "code",
   "execution_count": null,
   "id": "b4f942c5",
   "metadata": {},
   "outputs": [],
   "source": [
    "with open(\"/data/models/OpenHands/openhands/datasets/assets/wlasl_metadata/splits/asl100_random.json\") as f:\n",
    "        d1 = json.load(f)"
   ]
  },
  {
   "cell_type": "code",
   "execution_count": 15,
   "id": "6feb6cfd",
   "metadata": {},
   "outputs": [],
   "source": [
    "for gloss in d1:\n",
    "    for instance in gloss['instances']:\n",
    "        #print(instance['split'], d[instance['video_id']]['subset'])\n",
    "        assert instance['split'] == d[instance['video_id']]['subset']"
   ]
  },
  {
   "cell_type": "code",
   "execution_count": null,
   "id": "1322be5c",
   "metadata": {},
   "outputs": [],
   "source": []
  }
 ],
 "metadata": {
  "kernelspec": {
   "display_name": "openhands",
   "language": "python",
   "name": "python3"
  },
  "language_info": {
   "codemirror_mode": {
    "name": "ipython",
    "version": 3
   },
   "file_extension": ".py",
   "mimetype": "text/x-python",
   "name": "python",
   "nbconvert_exporter": "python",
   "pygments_lexer": "ipython3",
   "version": "3.8.10"
  },
  "vscode": {
   "interpreter": {
    "hash": "f07cc28449e4a3b72f31aaf195c4f231949a6597ce8da77110e10333f853c651"
   }
  }
 },
 "nbformat": 4,
 "nbformat_minor": 5
}
